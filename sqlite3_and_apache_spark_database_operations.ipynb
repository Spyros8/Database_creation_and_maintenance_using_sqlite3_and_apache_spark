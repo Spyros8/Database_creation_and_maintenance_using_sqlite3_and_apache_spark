{
 "cells": [
  {
   "cell_type": "code",
   "execution_count": 9,
   "id": "03dd1656-cb27-4882-9a39-bb29ea4dc857",
   "metadata": {},
   "outputs": [
    {
     "name": "stdout",
     "output_type": "stream",
     "text": [
      "Requirement already satisfied: ipython-sql in c:\\users\\spyro\\anaconda3\\lib\\site-packages (0.4.1)\n",
      "Requirement already satisfied: prettytable<1 in c:\\users\\spyro\\anaconda3\\lib\\site-packages (from ipython-sql) (0.7.2)\n",
      "Requirement already satisfied: sqlparse in c:\\users\\spyro\\anaconda3\\lib\\site-packages (from ipython-sql) (0.4.2)\n",
      "Requirement already satisfied: six in c:\\users\\spyro\\anaconda3\\lib\\site-packages (from ipython-sql) (1.15.0)\n",
      "Requirement already satisfied: ipython>=1.0 in c:\\users\\spyro\\anaconda3\\lib\\site-packages (from ipython-sql) (7.22.0)\n",
      "Requirement already satisfied: ipython-genutils>=0.1.0 in c:\\users\\spyro\\anaconda3\\lib\\site-packages (from ipython-sql) (0.2.0)\n",
      "Requirement already satisfied: sqlalchemy>=0.6.7 in c:\\users\\spyro\\anaconda3\\lib\\site-packages (from ipython-sql) (1.4.7)\n",
      "Requirement already satisfied: traitlets>=4.2 in c:\\users\\spyro\\anaconda3\\lib\\site-packages (from ipython>=1.0->ipython-sql) (5.0.5)\n",
      "Requirement already satisfied: pickleshare in c:\\users\\spyro\\anaconda3\\lib\\site-packages (from ipython>=1.0->ipython-sql) (0.7.5)\n",
      "Requirement already satisfied: backcall in c:\\users\\spyro\\anaconda3\\lib\\site-packages (from ipython>=1.0->ipython-sql) (0.2.0)\n",
      "Requirement already satisfied: pygments in c:\\users\\spyro\\anaconda3\\lib\\site-packages (from ipython>=1.0->ipython-sql) (2.8.1)\n",
      "Requirement already satisfied: prompt-toolkit!=3.0.0,!=3.0.1,<3.1.0,>=2.0.0 in c:\\users\\spyro\\anaconda3\\lib\\site-packages (from ipython>=1.0->ipython-sql) (3.0.17)\n",
      "Requirement already satisfied: decorator in c:\\users\\spyro\\anaconda3\\lib\\site-packages (from ipython>=1.0->ipython-sql) (5.0.6)\n",
      "Requirement already satisfied: setuptools>=18.5 in c:\\users\\spyro\\anaconda3\\lib\\site-packages (from ipython>=1.0->ipython-sql) (52.0.0.post20210125)\n",
      "Requirement already satisfied: jedi>=0.16 in c:\\users\\spyro\\anaconda3\\lib\\site-packages (from ipython>=1.0->ipython-sql) (0.17.2)\n",
      "Requirement already satisfied: colorama in c:\\users\\spyro\\anaconda3\\lib\\site-packages (from ipython>=1.0->ipython-sql) (0.4.4)\n",
      "Requirement already satisfied: parso<0.8.0,>=0.7.0 in c:\\users\\spyro\\anaconda3\\lib\\site-packages (from jedi>=0.16->ipython>=1.0->ipython-sql) (0.7.0)\n",
      "Requirement already satisfied: wcwidth in c:\\users\\spyro\\anaconda3\\lib\\site-packages (from prompt-toolkit!=3.0.0,!=3.0.1,<3.1.0,>=2.0.0->ipython>=1.0->ipython-sql) (0.2.5)\n",
      "Requirement already satisfied: greenlet!=0.4.17 in c:\\users\\spyro\\anaconda3\\lib\\site-packages (from sqlalchemy>=0.6.7->ipython-sql) (1.0.0)\n",
      "Note: you may need to restart the kernel to use updated packages.\n",
      "The sql extension is already loaded. To reload it, use:\n",
      "  %reload_ext sql\n"
     ]
    }
   ],
   "source": [
    "#allows to connect to a database\n",
    "%pip install ipython-sql\n",
    "#load the ipython extension for use\n",
    "%load_ext sql\n",
    "#add database path to it (convention)\n",
    "%sql sqlite://"
   ]
  },
  {
   "cell_type": "code",
   "execution_count": 10,
   "id": "a0bee2a2",
   "metadata": {},
   "outputs": [],
   "source": [
    "import sqlite3\n",
    "from sqlite3 import Error as Err\n",
    "from enum import unique\n",
    "from pathlib import Path, PurePath\n",
    "import pandas as pd\n",
    "import sys \n",
    "import re #for replacing non alphanumeric characters in string"
   ]
  },
  {
   "cell_type": "code",
   "execution_count": 11,
   "id": "f238382c",
   "metadata": {},
   "outputs": [],
   "source": [
    "# explicit function to connect  database\n",
    "# that resides in the memory\n",
    "def SQLite_connection_and_db_update(dbname_path, file_name):\n",
    " \n",
    "    try:\n",
    "        # connect to the database\n",
    "        Path(dbname_path).touch()\n",
    "        conn = sqlite3.connect(dbname_path)\n",
    "        print(\"Database connection is established successfully!\")\n",
    "        c = conn.cursor()\n",
    " \n",
    "    # if any interruption or error occurs\n",
    "    except Err: print(Err)\n",
    " \n",
    "    # terminate the connection   \n",
    "    finally: \n",
    "        path = PurePath(file_name)\n",
    "        table_name = pd.read_csv(file_name) #spark.read.csv(file_name, header=True,inferSchema=True) \n",
    "        path_name = path.name\n",
    "        print(path_name)\n",
    "        table_name.to_sql(path_name, conn, if_exists='append', index = False)\n",
    "        conn.commit()\n",
    "        print(c.execute(\"SELECT name FROM sqlite_master WHERE type = 'table'\").fetchall())\n",
    "        return c, path_name, table_name"
   ]
  },
  {
   "cell_type": "code",
   "execution_count": 12,
   "id": "a1d9c616",
   "metadata": {},
   "outputs": [],
   "source": [
    "#Note: Use delete_all_tables to get rid of all tables in existing database\n",
    "\n",
    "TABLE_PARAMETER = \"{TABLE_PARAMETER}\"\n",
    "DROP_TABLE_SQL = f\"DROP TABLE {TABLE_PARAMETER};\"\n",
    "GET_TABLES_SQL = \"SELECT name FROM sqlite_schema WHERE type='table';\"\n",
    "\n",
    "\n",
    "def delete_all_tables(con):\n",
    "    '''\n",
    "    Delete all tables present in a given database\n",
    "    '''\n",
    "    \n",
    "    tables = get_tables(con)\n",
    "    delete_tables(con, tables)\n",
    "\n",
    "\n",
    "def get_tables(con):\n",
    "    cur = con.cursor()\n",
    "    cur.execute(GET_TABLES_SQL)\n",
    "    tables = cur.fetchall()\n",
    "    cur.close()\n",
    "    return tables\n",
    "\n",
    "\n",
    "def delete_tables(con, tables):\n",
    "    cur = con.cursor()\n",
    "    for table, in tables:\n",
    "        sql = DROP_TABLE_SQL.replace(TABLE_PARAMETER, table)\n",
    "        cur.execute(sql)\n",
    "    cur.close()"
   ]
  },
  {
   "cell_type": "code",
   "execution_count": 13,
   "id": "39888746",
   "metadata": {},
   "outputs": [],
   "source": [
    "#One of the issues is to implicitly retrieve columns instead of manually naming  them in your_table_name\n",
    "#FIXES: NO column names nor key values are added to new database table. Only table creation was successful so far\n",
    "\n",
    "\n",
    "def extract_nth_element_from_list_of_tuples(tuple_list, n):\n",
    "    '''\n",
    "    Convert list of tuples to list of strings via list comprehension\n",
    "    '''\n",
    "    result = list(map (lambda x:(x[n]), tuple_list))\n",
    "    return result\n",
    "\n",
    "\n",
    "\n",
    "def join_database(database1Name, database3Name): \n",
    "\n",
    "    ''' \n",
    "    Join database 'database1Name' into database 'database3Name' \n",
    "    ''' \n",
    "    # Connect to Database1  \n",
    "    con1 = sqlite3.connect(database1Name)      \n",
    "    \n",
    "    # Connect to Database3 \n",
    "    con3_initial = sqlite3.connect(database3Name)  \n",
    "\n",
    "    #Include here because of liimited sqlite 3 capabilities. Further down it locks database     \n",
    "    delete_all_tables(con3_initial) \n",
    "    con3 = sqlite3.connect(database3Name)\n",
    "\n",
    "    tuples_of_tables = con1.cursor().execute('SELECT name from sqlite_master where type=\"table\"').fetchall()\n",
    "    list_of_tables = extract_nth_element_from_list_of_tuples(tuples_of_tables, 0)\n",
    "    table = list_of_tables[0]\n",
    "    new_table = table + '_new'\n",
    "    \n",
    "    #For reading column names from Database1. Note: This changes what's displayed when using .fetchall but to read as sqlite3 table it's required\n",
    "    con1.row_factory = sqlite3.Row         \n",
    "    con3.row_factory = sqlite3.Row\n",
    "\n",
    "    # Create new connection with Database1 for reading data  \n",
    "    con1_new = sqlite3.connect(database1Name)   \n",
    " \n",
    "    with con1, con3, con1_new: \n",
    "        cur1 = con1.cursor()            \n",
    "        cur1_new = con1_new.cursor()      \n",
    "        cur3 = con3.cursor()\n",
    "        cur1.execute('SELECT name from sqlite_master where type=\"table\"')\n",
    "        cur1.execute(f\"SELECT * FROM {table}\") \n",
    "        row_1 = cur1.fetchone()     \n",
    "        columnNames = row_1.keys()  \n",
    "        cur3.execute(f\"CREATE TABLE IF NOT EXISTS {new_table} (Id INTEGER PRIMARY KEY)\")\n",
    "        #Note: No need to commit transaction/changes, auto-commit mode is enabled by  default\n",
    "        \n",
    "        new_column_names = []\n",
    "        for col in columnNames[1:]:\n",
    "            new_col = re.sub('[^0-9a-zA-Z]','_', col)\n",
    "            new_column_names.append(new_col)\n",
    "            cur3.execute(f\"ALTER TABLE {new_table} ADD {new_col} TEXT\")\n",
    "\n",
    "        cur1_new.execute(f'SELECT * FROM {table}')\n",
    "        rows1 = cur1_new.fetchall() \n",
    "        rows1 = [r[1:] for r in rows1] \n",
    "        ques = []   \n",
    "        # Generate list [?, ?, ?, ?,........till length equals length of columnNames[1:]          \n",
    "        ques = [\"?\"]*len(new_column_names[0:]) \n",
    "        # Generate string \"?,?,?,?,?........\"    \n",
    "        ques = \",\".join(ques) \n",
    "        # Generate string \"col1, col2, col3............\"         \n",
    "        columnNames = \",\".join(new_column_names[0:]) \n",
    "        # Insert combined data into new Database3     \n",
    "        for item in rows1:  \n",
    "            cur3.execute(\"INSERT INTO {0}({1}) VALUES ({2})\".format(new_table, columnNames, ques), item)\n",
    "            \n",
    "    return con3, new_column_names\n",
    "      "
   ]
  },
  {
   "cell_type": "code",
   "execution_count": 14,
   "id": "d8906dee-50e2-41ec-881d-a1e51c615362",
   "metadata": {},
   "outputs": [
    {
     "name": "stdout",
     "output_type": "stream",
     "text": [
      "Database connection is established successfully!\n",
      "sales-data-1M.csv\n",
      "[('sales-data-1M.csv',)]\n",
      "sales-data-1M.csv\n"
     ]
    }
   ],
   "source": [
    "#Add file to database with given table name and operate on it in cmds below\n",
    "dbname_path = r'C:\\Users\\spyro\\sql.practice.local.pc\\sales_data.db'\n",
    "file_name = r'C:\\Users\\spyro\\python.replace.excel.functionality\\demo_files\\sales-data-1M.csv'\n",
    "returned_c_path_name = SQLite_connection_and_db_update(dbname_path, file_name)\n",
    "print(returned_c_path_name[1])"
   ]
  },
  {
   "cell_type": "code",
   "execution_count": 15,
   "id": "7fec593a-6cc1-4594-b182-83f57fefefb2",
   "metadata": {},
   "outputs": [
    {
     "data": {
      "text/plain": [
       "{1: [181736], 2: [181028], 3: [178944], 4: [78528733], 5: [164800]}"
      ]
     },
     "execution_count": 15,
     "metadata": {},
     "output_type": "execute_result"
    }
   ],
   "source": [
    "#analyse total revenue by product category\n",
    "product_revenue = returned_c_path_name[0].execute('''SELECT SUM(revenue), product FROM `sales-data-1M.csv` GROUP BY product''').fetchall() \n",
    "\n",
    "#Convert into dictionary (it's in the form of tuples) for visualisation purposes\n",
    "prod_rev_dic = {}\n",
    "for (value, key) in product_revenue:\n",
    "   prod_rev_dic.setdefault(key, []).append(value)\n",
    "prod_rev_dic"
   ]
  },
  {
   "cell_type": "code",
   "execution_count": 130,
   "id": "62bb3525-55f6-4052-b767-59897057ac1c",
   "metadata": {},
   "outputs": [
    {
     "name": "stdout",
     "output_type": "stream",
     "text": [
      "\n",
      "New DataFrame:\n",
      "         product      date  quantity  revenue day month year\n",
      "0              2    4/1/20         8      298   4     1   20\n",
      "1              1  10/13/20         1      344  10    13   20\n",
      "2              1   7/17/20         6      298   7    17   20\n",
      "3              2  10/18/20         1      377  10    18   20\n",
      "4              4   3/26/20         1      163   3    26   20\n",
      "...          ...       ...       ...      ...  ..   ...  ...\n",
      "1048570        4   7/13/20         6       75   7    13   20\n",
      "1048571        4   7/13/20         6       75   7    13   20\n",
      "1048572        4   7/13/20         6       75   7    13   20\n",
      "1048573        4   7/13/20         6       75   7    13   20\n",
      "1048574        4   7/13/20         6       75   7    13   20\n",
      "\n",
      "[1048575 rows x 7 columns]\n"
     ]
    },
    {
     "data": {
      "text/plain": [
       "array([<AxesSubplot:title={'center':'revenue'}, xlabel='product,year'>],\n",
       "      dtype=object)"
      ]
     },
     "execution_count": 130,
     "metadata": {},
     "output_type": "execute_result"
    },
    {
     "data": {
      "image/png": "[encoded data removed]",
      "text/plain": [
       "<Figure size 432x288 with 1 Axes>"
      ]
     },
     "metadata": {
      "needs_background": "light"
     },
     "output_type": "display_data"
    }
   ],
   "source": [
    "#Further manipulation to separate date into month, day and year\n",
    "returned_c_path_name[2][[\"day\", \"month\", \"year\"]] = returned_c_path_name[2][\"date\"].str.split(\"/\", expand = True)\n",
    "print(\"\\nNew DataFrame:\")\n",
    "print(returned_c_path_name[2])\n",
    "\n",
    "#just use python dataframes\n",
    "yearly_revenue_by_product = (returned_c_path_name[2].groupby(['product', 'year'], axis = 0)['revenue'].sum()).to_frame()\n",
    "#print(yearly_revenue_by_product.unstack(level = 1))\n",
    "\n",
    "#plot results into scatter diagram\n",
    "yearly_revenue_by_product.plot(kind='bar', subplots=True, ylim = (0,500000))\n"
   ]
  },
  {
   "cell_type": "code",
   "execution_count": 16,
   "id": "451261ce",
   "metadata": {},
   "outputs": [
    {
     "name": "stdout",
     "output_type": "stream",
     "text": [
      "['Id', 'Country', 'A01_interview_date', 'A03_quest_no', 'A04_start', 'A05_end', 'A06_province', 'A07_district', 'A08_ward', 'A09_village', 'A11_years_farm', 'A12_agr_assoc', 'B_no_membrs', '_members_count', 'B11_remittance_money', 'B16_years_liv', 'B17_parents_liv', 'B18_sp_parents_liv', 'B19_grand_liv', 'B20_sp_grand_liv', 'C01_respondent_roof_type', 'C02_respondent_wall_type', 'C03_respondent_floor_type', 'C04_window_type', 'C05_buildings_in_compound', 'C06_rooms', 'C07_other_buildings', 'D_no_plots', 'D_plots_count', 'E01_water_use', 'E_no_group_count', 'E_yes_group_count', 'E17_no_enough_water', 'E18_months_no_water', 'E19_period_use', 'E20_exper_other', 'E21_other_meth', 'E22_res_change', 'E23_memb_assoc', 'E24_resp_assoc', 'E25_fees_water', 'E26_affect_conflicts', 'F04_need_money', 'F05_money_source', 'F05_money_source_other', 'F08_emply_lab', 'F09_du_labour', 'F10_liv_owned', 'F10_liv_owned_other', 'F_liv_count', 'F12_poultry', 'F13_du_look_aftr_cows', 'F14_items_owned', 'G01_no_meals', 'G02_months_lack_food', 'G03_no_food_mitigation', 'gps_Latitude', 'gps_Longitude', 'gps_Altitude', 'gps_Accuracy', 'instanceID']\n"
     ]
    }
   ],
   "source": [
    "#Tranfer tables from 1 database to another one that was created in the path specified below\n",
    "Path(r'C:\\Users\\spyro\\sql.practice.local.pc\\local_databases\\SQL_SAFI.new_db.db').touch()\n",
    "db_new = r'C:\\Users\\spyro\\sql.practice.local.pc\\local_databases\\SQL_SAFI.new_db.db'\n",
    "db_original = r'C:\\Users\\spyro\\sql.practice.local.pc\\local_databases\\SQL_SAFI.sqlite'\n",
    "connect, columns = join_database(db_original, db_new)\n",
    "#Note: use.row_factory to execute .keys method in join_database function (for con3)\n",
    "print(connect.cursor().execute(\"SELECT * FROM Farms_new\").fetchone().keys())"
   ]
  },
  {
   "cell_type": "code",
   "execution_count": 17,
   "id": "37927fdc",
   "metadata": {},
   "outputs": [
    {
     "name": "stdout",
     "output_type": "stream",
     "text": [
      "[<sqlite3.Row object at 0x000001E94CAC70D0>]\n",
      "None\n"
     ]
    }
   ],
   "source": [
    "#Check delete function okay\n",
    "print(connect.cursor().execute('SELECT name from sqlite_master where type=\"table\"').fetchall()) # created table but no keys\n",
    "row = connect.cursor().fetchone()\n",
    "delete_all_tables(connect)\n",
    "print(connect.cursor().fetchone())"
   ]
  },
  {
   "cell_type": "code",
   "execution_count": 1,
   "id": "6a5e4779-d576-44df-9830-ddae14cc12f9",
   "metadata": {},
   "outputs": [],
   "source": [
    "#Practice run with pyspark\n",
    "\n",
    "import os\n",
    "from os.path import expanduser, join, abspath\n",
    "import pyspark\n",
    "from pyspark.sql import functions, SparkSession, Row, HiveContext\n",
    "from pyspark.sql import Row"
   ]
  },
  {
   "cell_type": "code",
   "execution_count": 2,
   "id": "30b2aa45-2053-48bc-a544-d4c21d5d6959",
   "metadata": {},
   "outputs": [
    {
     "name": "stdout",
     "output_type": "stream",
     "text": [
      "root\n",
      " |-- gender: string (nullable = true)\n",
      " |-- group: string (nullable = true)\n",
      " |-- math score: integer (nullable = true)\n",
      " |-- reading score: integer (nullable = true)\n",
      " |-- writing score: integer (nullable = true)\n",
      "\n",
      "+------+-------+----------+-------------+-------------+\n",
      "|gender|  group|math score|reading score|writing score|\n",
      "+------+-------+----------+-------------+-------------+\n",
      "|  male|group B|        38|           93|           28|\n",
      "|female|group D|        96|           30|            7|\n",
      "|  male|group E|        42|           22|            4|\n",
      "|  male|group C|        14|           83|           23|\n",
      "|  male|group B|        55|           28|           20|\n",
      "|  male|group D|        40|           23|           95|\n",
      "|  male|group D|        23|           58|           28|\n",
      "|female|group B|        26|           35|           97|\n",
      "|  male|group A|        89|           39|           45|\n",
      "|female|group C|        18|           31|           58|\n",
      "|female|group B|        26|           77|           95|\n",
      "|female|group E|        63|           33|           54|\n",
      "|  male|group C|        76|           48|           49|\n",
      "|  male|group E|        64|            9|           31|\n",
      "|female|group A|        39|           63|           63|\n",
      "|  male|group A|        97|           93|           76|\n",
      "|female|group A|        74|           57|           35|\n",
      "|female|group E|        47|           82|           50|\n",
      "|  male|group C|        76|           94|           43|\n",
      "|  male|group B|         5|           24|           61|\n",
      "+------+-------+----------+-------------+-------------+\n",
      "only showing top 20 rows\n",
      "\n",
      "+-------+------+-------+------------------+------------------+------------------+\n",
      "|summary|gender|  group|        math score|     reading score|     writing score|\n",
      "+-------+------+-------+------------------+------------------+------------------+\n",
      "|  count|  1000|   1000|              1000|              1000|              1000|\n",
      "|   mean|  null|   null|             52.25|            50.766|            48.681|\n",
      "| stddev|  null|   null|28.686275505934937|29.241311500996282|28.896128204747864|\n",
      "|    min|female|group A|                 1|                 1|                 1|\n",
      "|    max|  male|group E|               100|               100|               100|\n",
      "+-------+------+-------+------------------+------------------+------------------+\n",
      "\n",
      "root\n",
      " |-- summary: string (nullable = true)\n",
      " |-- gender: string (nullable = true)\n",
      " |-- group: string (nullable = true)\n",
      " |-- math score: string (nullable = true)\n",
      " |-- reading score: string (nullable = true)\n",
      " |-- writing score: string (nullable = true)\n",
      "\n",
      "+--------+-----------------------+-----------+\n",
      "|database|tableName              |isTemporary|\n",
      "+--------+-----------------------+-----------+\n",
      "|        |studentsperformance_csv|true       |\n",
      "+--------+-----------------------+-----------+\n",
      "\n"
     ]
    }
   ],
   "source": [
    "#Launch sparksession, create database and use spark dataframes\n",
    "\n",
    "#Note: Can also set the spark context and then create and run the sparksession\n",
    "#spark = SparkSession.builder.appName(\"students\").getOrCreate()\n",
    "#spark = SparkSession.builder.config('spark.port.maxRetries', 16).getOrCreate() \n",
    "\n",
    "sc = pyspark.SparkContext()\n",
    "spark = pyspark.sql.SparkSession(sc)\n",
    "\n",
    "db_name = \"student_data\"\n",
    "spark.sql(f\"CREATE DATABASE IF NOT EXISTS {db_name}\")\n",
    "\n",
    "\n",
    "#read csv data into dataframe\n",
    "StudentsPerformance_csv = spark.read.csv(r'C:\\Users\\spyro\\python.replace.excel.functionality\\demo_files\\StudentsPerformance.csv',header=True,inferSchema=True)\n",
    "StudentsPerformance_csv.printSchema()\n",
    "StudentsPerformance_csv.show()\n",
    "\n",
    "\n",
    "#Note: createGlobalTempView shared across all sessions even though on emay be terminated\n",
    "StudentsPerformance_csv.createOrReplaceTempView(\"StudentsPerformance_csv\")\n",
    "\n",
    "\n",
    "students_performance_stats = StudentsPerformance_csv.describe()\n",
    "students_performance_stats.show()\n",
    "#Note stats are stringified by default and null values still allowed\n",
    "students_performance_stats.printSchema()\n",
    "spark.sql(\"SHOW TABLES\").show(truncate=False)"
   ]
  },
  {
   "cell_type": "code",
   "execution_count": 3,
   "id": "096ed476",
   "metadata": {},
   "outputs": [
    {
     "name": "stdout",
     "output_type": "stream",
     "text": [
      "+-------------------------+--------------------------------------------------------------------------+\n",
      "|database_description_item|database_description_value                                                |\n",
      "+-------------------------+--------------------------------------------------------------------------+\n",
      "|Database Name            |student_data                                                              |\n",
      "|Comment                  |                                                                          |\n",
      "|Location                 |file:/c:/Users/spyro/sql.practice.local.pc/spark-warehouse/student_data.db|\n",
      "|Owner                    |                                                                          |\n",
      "|Properties               |((Edited-by,spyros), (Edit-date,28/08/2022))                              |\n",
      "+-------------------------+--------------------------------------------------------------------------+\n",
      "\n",
      "+------------+\n",
      "|namespace   |\n",
      "+------------+\n",
      "|default     |\n",
      "|student_data|\n",
      "+------------+\n",
      "\n"
     ]
    }
   ],
   "source": [
    "\n",
    "#spark.sql(f\"CREATE TABLE student_data.studentsperformance_csv\")\n",
    "spark.sql(f\"ALTER DATABASE {db_name} SET DBPROPERTIES ('Edited-by' = 'spyros', 'Edit-date' = '28/08/2022')\")\n",
    "spark.sql(f\"DESCRIBE DATABASE EXTENDED {db_name}\").show(truncate=False)\n",
    "#nothing yet committed before closing spark session\n",
    "spark.sql(\"show databases\").show(truncate=False)"
   ]
  },
  {
   "cell_type": "code",
   "execution_count": null,
   "id": "bc3ae1d3",
   "metadata": {},
   "outputs": [],
   "source": []
  }
 ],
 "metadata": {
  "kernelspec": {
   "display_name": "Python 3",
   "language": "python",
   "name": "python3"
  },
  "language_info": {
   "codemirror_mode": {
    "name": "ipython",
    "version": 3
   },
   "file_extension": ".py",
   "mimetype": "text/x-python",
   "name": "python",
   "nbconvert_exporter": "python",
   "pygments_lexer": "ipython3",
   "version": "3.8.8"
  },
  "vscode": {
   "interpreter": {
    "hash": "7a6261e1c0016274ecc1651585fddfa1aa48f98169ab85aba10a8e18391b06b5"
   }
  }
 },
 "nbformat": 4,
 "nbformat_minor": 5
}
